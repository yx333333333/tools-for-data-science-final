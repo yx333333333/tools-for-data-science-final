{
 "cells": [
  {
   "cell_type": "markdown",
   "id": "172f628f",
   "metadata": {},
   "source": [
    "# Tools for Data Science Final Project"
   ]
  },
  {
   "cell_type": "markdown",
   "id": "ed66fca2",
   "metadata": {},
   "source": [
    "In this notebook, we summarize key tools, libraries, and languages used in data science. The purpose is to demonstrate basic Markdown formatting and simple code cells."
   ]
  },
  {
   "cell_type": "markdown",
   "id": "aa51b738",
   "metadata": {},
   "source": [
    "## Data Science Languages\n",
    "\n",
    "- Python  \n",
    "- R  \n",
    "- SQL  \n",
    "- Scala  \n",
    "- Julia"
   ]
  },
  {
   "cell_type": "markdown",
   "id": "0156770f",
   "metadata": {},
   "source": [
    "## Data Science Libraries\n",
    "\n",
    "- Pandas  \n",
    "- NumPy  \n",
    "- Matplotlib  \n",
    "- Scikit-learn  \n",
    "- TensorFlow"
   ]
  },
  {
   "cell_type": "markdown",
   "id": "58693106",
   "metadata": {},
   "source": [
    "## Data Science Tools\n",
    "\n",
    "| Tool           | Description                      |\n",
    "|----------------|----------------------------------|\n",
    "| Jupyter        | Web-based notebook environment   |\n",
    "| RStudio        | IDE for R                        |\n",
    "| GitHub         | Code version control & sharing   |\n",
    "| Apache Spark   | Big data processing framework    |\n",
    "| TensorFlow     | Deep learning library            |"
   ]
  },
  {
   "cell_type": "markdown",
   "id": "c7cf7553",
   "metadata": {},
   "source": [
    "## Example of Arithmetic Expressions in Python\n",
    "\n",
    "Below is a simple example of multiplication and addition:"
   ]
  },
  {
   "cell_type": "code",
   "execution_count": null,
   "id": "01896b3a",
   "metadata": {},
   "outputs": [],
   "source": [
    "# This expression multiplies 3 by 4 and then adds 5\n",
    "(3 * 4) + 5"
   ]
  },
  {
   "cell_type": "code",
   "execution_count": null,
   "id": "37a3fd9a",
   "metadata": {},
   "outputs": [],
   "source": [
    "# This will convert 200 minutes into hours\n",
    "minutes = 200\n",
    "hours = minutes / 60\n",
    "hours"
   ]
  },
  {
   "cell_type": "markdown",
   "id": "a89e1bb6",
   "metadata": {},
   "source": [
    "## Objectives\n",
    "\n",
    "- Use Markdown to document data science topics  \n",
    "- Practice arithmetic expressions in Python  \n",
    "- Learn to share notebooks via GitHub  \n",
    "- Demonstrate use of JupyterLite"
   ]
  },
  {
   "cell_type": "markdown",
   "id": "0e5f9b85",
   "metadata": {},
   "source": [
    "**Author:** Yiwei Qin"
   ]
  }
 ],
 "metadata": {},
 "nbformat": 4,
 "nbformat_minor": 5
}
